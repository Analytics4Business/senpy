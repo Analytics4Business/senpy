{
 "cells": [
  {
   "cell_type": "markdown",
   "metadata": {},
   "source": [
    "# Quickstart\n",
    "\n",
    "This short tutorial will teach you how to consume senpy services for several tasks, and how to take advantage of the features of the framework.\n",
    "\n",
    "In particular, it covers:\n",
    "\n",
    "* Annotating text with sentiment and emotion using interoperable services\n",
    "* Switching to different services (service interoperability)\n",
    "* Getting results in different formats (Turtle, XML, text...)\n",
    "* Asking for specific emotion models (automatic model conversion)\n",
    "* Listing available services in an endpoint\n",
    "* Calling multiple services in the same request (Pipelines)\n",
    "\n",
    "These topics are split into two separate tutorials.\n",
    "\n",
    "Reading all the sections is not necessary, although it is encouraged in order to get a glimpse of all the features."
   ]
  },
  {
   "cell_type": "markdown",
   "metadata": {
    "nbsphinx-toctree": {
     "maxdepth": 2
    }
   },
   "source": [
    "* [Senpy in 1 minute](./Quickstart-1minute.ipynb) shows how to query the API.\n",
    "* [Senpy in 10 minutes](./Quickstart-10minutes.ipynb) introduces basic sentiment and emotion analysis.\n",
    "* [Senpy in 30 minutes](./Quickstart-30minutes.ipynb) builds on the previous and adds more advanced functionalities, such as emotion conversion, field selection and pipelines."
   ]
  }
 ],
 "metadata": {
  "anaconda-cloud": {},
  "celltoolbar": "Edit Metadata",
  "kernelspec": {
   "display_name": "Python 3",
   "language": "python",
   "name": "python3"
  },
  "language_info": {
   "codemirror_mode": {
    "name": "ipython",
    "version": 3
   },
   "file_extension": ".py",
   "mimetype": "text/x-python",
   "name": "python",
   "nbconvert_exporter": "python",
   "pygments_lexer": "ipython3",
   "version": "3.7.3"
  },
  "toc": {
   "colors": {
    "hover_highlight": "#DAA520",
    "running_highlight": "#FF0000",
    "selected_highlight": "#FFD700"
   },
   "moveMenuLeft": true,
   "nav_menu": {
    "height": "68px",
    "width": "252px"
   },
   "navigate_menu": true,
   "number_sections": true,
   "sideBar": true,
   "threshold": 4,
   "toc_cell": false,
   "toc_section_display": "block",
   "toc_window_display": false
  }
 },
 "nbformat": 4,
 "nbformat_minor": 1
}
